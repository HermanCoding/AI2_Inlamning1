{
 "cells": [
  {
   "cell_type": "markdown",
   "source": [
    "## Bakgrundsbeskrivning\n",
    "Telcco AB är ett fiktivt företag som har en utmaning med kundbortfall. Man vill identifiera de kunder som riskerar att\n",
    "falla bort. Dessa kunder kan genom riktade erbjudanden lockas att stanna kvar.\n",
    "\n",
    "### Uppgiften\n",
    "Hitta en lösning som bygger på observationer som intäkter från kunden, antal produkter, och andra data om kunden.\n",
    "Man vill hitta kunder som riskerar att falla bort."
   ],
   "metadata": {
    "collapsed": false
   }
  },
  {
   "cell_type": "markdown",
   "source": [
    "### Förklaring av vad för typ av AI är bäst lämpad för denna data.\n",
    "\n",
    "För denna data så skall vi göra någon sorts klassificering för att utreda om kunderna har en benägenhet att lämna företaget eller inte. Det är med andra ord en maskinlärningsmetod som är inriktad mot klassificering och eftersom vi har både indata och utdata så använder vi oss av övervakat lärande (Supervised).\n",
    "Några exempel är Linjär regression, Random Forest eller Neural Networks."
   ],
   "metadata": {
    "collapsed": false
   }
  },
  {
   "cell_type": "markdown",
   "source": [
    "# Inläsning och tolkning av datan."
   ],
   "metadata": {
    "collapsed": false
   }
  },
  {
   "cell_type": "markdown",
   "source": [
    "Börjar med att läsa in de paket som jag vet att jag kommer att använda."
   ],
   "metadata": {
    "collapsed": false
   }
  },
  {
   "cell_type": "code",
   "execution_count": 1,
   "outputs": [],
   "source": [
    "import pandas as pd\n",
    "import numpy as np\n",
    "import matplotlib.pylab as plt\n",
    "import seaborn as sns"
   ],
   "metadata": {
    "collapsed": false,
    "ExecuteTime": {
     "start_time": "2023-04-18T22:23:30.011335Z",
     "end_time": "2023-04-18T22:23:30.015967Z"
    }
   }
  },
  {
   "cell_type": "markdown",
   "source": [
    "Läser in vårt dataset i en dataframe och skriver ut de första raderna."
   ],
   "metadata": {
    "collapsed": false
   }
  },
  {
   "cell_type": "code",
   "execution_count": 2,
   "outputs": [
    {
     "data": {
      "text/plain": "                                 0             1               2  \\\ncustomerID              7590-VHVEG    5575-GNVDE      3668-QPYBK   \ngender                      Female          Male            Male   \nSeniorCitizen                    0             0               0   \nPartner                        Yes            No              No   \nDependents                      No            No              No   \ntenure                           1            34               2   \nPhoneService                    No           Yes             Yes   \nMultipleLines     No phone service            No              No   \nInternetService                DSL           DSL             DSL   \nOnlineSecurity                  No           Yes             Yes   \nOnlineBackup                   Yes            No             Yes   \nDeviceProtection                No           Yes              No   \nTechSupport                     No            No              No   \nStreamingTV                     No            No              No   \nStreamingMovies                 No            No              No   \nContract            Month-to-month      One year  Month-to-month   \nPaperlessBilling               Yes            No             Yes   \nPaymentMethod     Electronic check  Mailed check    Mailed check   \nMonthlyCharges               29.85         56.95           53.85   \nTotalCharges                 29.85        1889.5          108.15   \nChurn                           No            No             Yes   \n\n                                          3                 4  \ncustomerID                       7795-CFOCW        9237-HQITU  \ngender                                 Male            Female  \nSeniorCitizen                             0                 0  \nPartner                                  No                No  \nDependents                               No                No  \ntenure                                   45                 2  \nPhoneService                             No               Yes  \nMultipleLines              No phone service                No  \nInternetService                         DSL       Fiber optic  \nOnlineSecurity                          Yes                No  \nOnlineBackup                             No                No  \nDeviceProtection                        Yes                No  \nTechSupport                             Yes                No  \nStreamingTV                              No                No  \nStreamingMovies                          No                No  \nContract                           One year    Month-to-month  \nPaperlessBilling                         No               Yes  \nPaymentMethod     Bank transfer (automatic)  Electronic check  \nMonthlyCharges                         42.3              70.7  \nTotalCharges                        1840.75            151.65  \nChurn                                    No               Yes  ",
      "text/html": "<div>\n<style scoped>\n    .dataframe tbody tr th:only-of-type {\n        vertical-align: middle;\n    }\n\n    .dataframe tbody tr th {\n        vertical-align: top;\n    }\n\n    .dataframe thead th {\n        text-align: right;\n    }\n</style>\n<table border=\"1\" class=\"dataframe\">\n  <thead>\n    <tr style=\"text-align: right;\">\n      <th></th>\n      <th>0</th>\n      <th>1</th>\n      <th>2</th>\n      <th>3</th>\n      <th>4</th>\n    </tr>\n  </thead>\n  <tbody>\n    <tr>\n      <th>customerID</th>\n      <td>7590-VHVEG</td>\n      <td>5575-GNVDE</td>\n      <td>3668-QPYBK</td>\n      <td>7795-CFOCW</td>\n      <td>9237-HQITU</td>\n    </tr>\n    <tr>\n      <th>gender</th>\n      <td>Female</td>\n      <td>Male</td>\n      <td>Male</td>\n      <td>Male</td>\n      <td>Female</td>\n    </tr>\n    <tr>\n      <th>SeniorCitizen</th>\n      <td>0</td>\n      <td>0</td>\n      <td>0</td>\n      <td>0</td>\n      <td>0</td>\n    </tr>\n    <tr>\n      <th>Partner</th>\n      <td>Yes</td>\n      <td>No</td>\n      <td>No</td>\n      <td>No</td>\n      <td>No</td>\n    </tr>\n    <tr>\n      <th>Dependents</th>\n      <td>No</td>\n      <td>No</td>\n      <td>No</td>\n      <td>No</td>\n      <td>No</td>\n    </tr>\n    <tr>\n      <th>tenure</th>\n      <td>1</td>\n      <td>34</td>\n      <td>2</td>\n      <td>45</td>\n      <td>2</td>\n    </tr>\n    <tr>\n      <th>PhoneService</th>\n      <td>No</td>\n      <td>Yes</td>\n      <td>Yes</td>\n      <td>No</td>\n      <td>Yes</td>\n    </tr>\n    <tr>\n      <th>MultipleLines</th>\n      <td>No phone service</td>\n      <td>No</td>\n      <td>No</td>\n      <td>No phone service</td>\n      <td>No</td>\n    </tr>\n    <tr>\n      <th>InternetService</th>\n      <td>DSL</td>\n      <td>DSL</td>\n      <td>DSL</td>\n      <td>DSL</td>\n      <td>Fiber optic</td>\n    </tr>\n    <tr>\n      <th>OnlineSecurity</th>\n      <td>No</td>\n      <td>Yes</td>\n      <td>Yes</td>\n      <td>Yes</td>\n      <td>No</td>\n    </tr>\n    <tr>\n      <th>OnlineBackup</th>\n      <td>Yes</td>\n      <td>No</td>\n      <td>Yes</td>\n      <td>No</td>\n      <td>No</td>\n    </tr>\n    <tr>\n      <th>DeviceProtection</th>\n      <td>No</td>\n      <td>Yes</td>\n      <td>No</td>\n      <td>Yes</td>\n      <td>No</td>\n    </tr>\n    <tr>\n      <th>TechSupport</th>\n      <td>No</td>\n      <td>No</td>\n      <td>No</td>\n      <td>Yes</td>\n      <td>No</td>\n    </tr>\n    <tr>\n      <th>StreamingTV</th>\n      <td>No</td>\n      <td>No</td>\n      <td>No</td>\n      <td>No</td>\n      <td>No</td>\n    </tr>\n    <tr>\n      <th>StreamingMovies</th>\n      <td>No</td>\n      <td>No</td>\n      <td>No</td>\n      <td>No</td>\n      <td>No</td>\n    </tr>\n    <tr>\n      <th>Contract</th>\n      <td>Month-to-month</td>\n      <td>One year</td>\n      <td>Month-to-month</td>\n      <td>One year</td>\n      <td>Month-to-month</td>\n    </tr>\n    <tr>\n      <th>PaperlessBilling</th>\n      <td>Yes</td>\n      <td>No</td>\n      <td>Yes</td>\n      <td>No</td>\n      <td>Yes</td>\n    </tr>\n    <tr>\n      <th>PaymentMethod</th>\n      <td>Electronic check</td>\n      <td>Mailed check</td>\n      <td>Mailed check</td>\n      <td>Bank transfer (automatic)</td>\n      <td>Electronic check</td>\n    </tr>\n    <tr>\n      <th>MonthlyCharges</th>\n      <td>29.85</td>\n      <td>56.95</td>\n      <td>53.85</td>\n      <td>42.3</td>\n      <td>70.7</td>\n    </tr>\n    <tr>\n      <th>TotalCharges</th>\n      <td>29.85</td>\n      <td>1889.5</td>\n      <td>108.15</td>\n      <td>1840.75</td>\n      <td>151.65</td>\n    </tr>\n    <tr>\n      <th>Churn</th>\n      <td>No</td>\n      <td>No</td>\n      <td>Yes</td>\n      <td>No</td>\n      <td>Yes</td>\n    </tr>\n  </tbody>\n</table>\n</div>"
     },
     "execution_count": 2,
     "metadata": {},
     "output_type": "execute_result"
    }
   ],
   "source": [
    "df = pd.read_csv(\"dataset/WA_Fn-UseC_-Telco-Customer-Churn.csv\")\n",
    "df.head().T"
   ],
   "metadata": {
    "collapsed": false,
    "ExecuteTime": {
     "start_time": "2023-04-18T22:23:30.019116Z",
     "end_time": "2023-04-18T22:23:30.065942Z"
    }
   }
  },
  {
   "cell_type": "markdown",
   "source": [
    "Kontrollerar vad datan består av."
   ],
   "metadata": {
    "collapsed": false
   }
  },
  {
   "cell_type": "code",
   "execution_count": 3,
   "outputs": [
    {
     "name": "stdout",
     "output_type": "stream",
     "text": [
      "<class 'pandas.core.frame.DataFrame'>\n",
      "RangeIndex: 7043 entries, 0 to 7042\n",
      "Data columns (total 21 columns):\n",
      " #   Column            Non-Null Count  Dtype  \n",
      "---  ------            --------------  -----  \n",
      " 0   customerID        7043 non-null   object \n",
      " 1   gender            7043 non-null   object \n",
      " 2   SeniorCitizen     7043 non-null   int64  \n",
      " 3   Partner           7043 non-null   object \n",
      " 4   Dependents        7043 non-null   object \n",
      " 5   tenure            7043 non-null   int64  \n",
      " 6   PhoneService      7043 non-null   object \n",
      " 7   MultipleLines     7043 non-null   object \n",
      " 8   InternetService   7043 non-null   object \n",
      " 9   OnlineSecurity    7043 non-null   object \n",
      " 10  OnlineBackup      7043 non-null   object \n",
      " 11  DeviceProtection  7043 non-null   object \n",
      " 12  TechSupport       7043 non-null   object \n",
      " 13  StreamingTV       7043 non-null   object \n",
      " 14  StreamingMovies   7043 non-null   object \n",
      " 15  Contract          7043 non-null   object \n",
      " 16  PaperlessBilling  7043 non-null   object \n",
      " 17  PaymentMethod     7043 non-null   object \n",
      " 18  MonthlyCharges    7043 non-null   float64\n",
      " 19  TotalCharges      7043 non-null   object \n",
      " 20  Churn             7043 non-null   object \n",
      "dtypes: float64(1), int64(2), object(18)\n",
      "memory usage: 1.1+ MB\n"
     ]
    }
   ],
   "source": [
    "df.info()"
   ],
   "metadata": {
    "collapsed": false,
    "ExecuteTime": {
     "start_time": "2023-04-18T22:23:30.054425Z",
     "end_time": "2023-04-18T22:23:30.076812Z"
    }
   }
  },
  {
   "cell_type": "markdown",
   "source": [
    "### Slutsaster från datatyperna\n",
    "Noterar att:\n",
    "SeniorCitizen är int64. - Detta verkar skilja sig från den andra datan och värt att utforska.\n",
    "TotalCharges är object. - Detta verkar inte stämma då jag tolkar detta som en summa.\n",
    "\n",
    "Utöver detta så tycker jag inte att något direkt sticker ut med datatyperna."
   ],
   "metadata": {
    "collapsed": false
   }
  },
  {
   "cell_type": "markdown",
   "source": [
    "Kontrollerar om vi har några saknade värden"
   ],
   "metadata": {
    "collapsed": false
   }
  },
  {
   "cell_type": "code",
   "execution_count": 4,
   "outputs": [
    {
     "name": "stdout",
     "output_type": "stream",
     "text": [
      "customerID          0\n",
      "gender              0\n",
      "SeniorCitizen       0\n",
      "Partner             0\n",
      "Dependents          0\n",
      "tenure              0\n",
      "PhoneService        0\n",
      "MultipleLines       0\n",
      "InternetService     0\n",
      "OnlineSecurity      0\n",
      "OnlineBackup        0\n",
      "DeviceProtection    0\n",
      "TechSupport         0\n",
      "StreamingTV         0\n",
      "StreamingMovies     0\n",
      "Contract            0\n",
      "PaperlessBilling    0\n",
      "PaymentMethod       0\n",
      "MonthlyCharges      0\n",
      "TotalCharges        0\n",
      "Churn               0\n",
      "dtype: int64\n"
     ]
    }
   ],
   "source": [
    "print(df.isnull().sum())"
   ],
   "metadata": {
    "collapsed": false,
    "ExecuteTime": {
     "start_time": "2023-04-18T22:23:30.075807Z",
     "end_time": "2023-04-18T22:23:30.090684Z"
    }
   }
  },
  {
   "cell_type": "markdown",
   "source": [
    "Alla celler i datan har värden."
   ],
   "metadata": {
    "collapsed": false
   }
  },
  {
   "cell_type": "markdown",
   "source": [
    "# Städning och uppstyrning av datan"
   ],
   "metadata": {
    "collapsed": false
   }
  },
  {
   "cell_type": "markdown",
   "source": [
    "Eftersom 'customerID' inte bidrar till datans värde utan enbart är en unik identifierare så väljer jag att droppa denna data för att komma ifrån att modellerna som kommer användas senare lägger något värde i denna kolumn."
   ],
   "metadata": {
    "collapsed": false
   }
  },
  {
   "cell_type": "code",
   "execution_count": 5,
   "outputs": [
    {
     "name": "stdout",
     "output_type": "stream",
     "text": [
      "True\n"
     ]
    },
    {
     "data": {
      "text/plain": "                                 0             1               2\ngender                      Female          Male            Male\nSeniorCitizen                    0             0               0\nPartner                        Yes            No              No\nDependents                      No            No              No\ntenure                           1            34               2\nPhoneService                    No           Yes             Yes\nMultipleLines     No phone service            No              No\nInternetService                DSL           DSL             DSL\nOnlineSecurity                  No           Yes             Yes\nOnlineBackup                   Yes            No             Yes\nDeviceProtection                No           Yes              No\nTechSupport                     No            No              No\nStreamingTV                     No            No              No\nStreamingMovies                 No            No              No\nContract            Month-to-month      One year  Month-to-month\nPaperlessBilling               Yes            No             Yes\nPaymentMethod     Electronic check  Mailed check    Mailed check\nMonthlyCharges               29.85         56.95           53.85\nTotalCharges                 29.85        1889.5          108.15\nChurn                           No            No             Yes",
      "text/html": "<div>\n<style scoped>\n    .dataframe tbody tr th:only-of-type {\n        vertical-align: middle;\n    }\n\n    .dataframe tbody tr th {\n        vertical-align: top;\n    }\n\n    .dataframe thead th {\n        text-align: right;\n    }\n</style>\n<table border=\"1\" class=\"dataframe\">\n  <thead>\n    <tr style=\"text-align: right;\">\n      <th></th>\n      <th>0</th>\n      <th>1</th>\n      <th>2</th>\n    </tr>\n  </thead>\n  <tbody>\n    <tr>\n      <th>gender</th>\n      <td>Female</td>\n      <td>Male</td>\n      <td>Male</td>\n    </tr>\n    <tr>\n      <th>SeniorCitizen</th>\n      <td>0</td>\n      <td>0</td>\n      <td>0</td>\n    </tr>\n    <tr>\n      <th>Partner</th>\n      <td>Yes</td>\n      <td>No</td>\n      <td>No</td>\n    </tr>\n    <tr>\n      <th>Dependents</th>\n      <td>No</td>\n      <td>No</td>\n      <td>No</td>\n    </tr>\n    <tr>\n      <th>tenure</th>\n      <td>1</td>\n      <td>34</td>\n      <td>2</td>\n    </tr>\n    <tr>\n      <th>PhoneService</th>\n      <td>No</td>\n      <td>Yes</td>\n      <td>Yes</td>\n    </tr>\n    <tr>\n      <th>MultipleLines</th>\n      <td>No phone service</td>\n      <td>No</td>\n      <td>No</td>\n    </tr>\n    <tr>\n      <th>InternetService</th>\n      <td>DSL</td>\n      <td>DSL</td>\n      <td>DSL</td>\n    </tr>\n    <tr>\n      <th>OnlineSecurity</th>\n      <td>No</td>\n      <td>Yes</td>\n      <td>Yes</td>\n    </tr>\n    <tr>\n      <th>OnlineBackup</th>\n      <td>Yes</td>\n      <td>No</td>\n      <td>Yes</td>\n    </tr>\n    <tr>\n      <th>DeviceProtection</th>\n      <td>No</td>\n      <td>Yes</td>\n      <td>No</td>\n    </tr>\n    <tr>\n      <th>TechSupport</th>\n      <td>No</td>\n      <td>No</td>\n      <td>No</td>\n    </tr>\n    <tr>\n      <th>StreamingTV</th>\n      <td>No</td>\n      <td>No</td>\n      <td>No</td>\n    </tr>\n    <tr>\n      <th>StreamingMovies</th>\n      <td>No</td>\n      <td>No</td>\n      <td>No</td>\n    </tr>\n    <tr>\n      <th>Contract</th>\n      <td>Month-to-month</td>\n      <td>One year</td>\n      <td>Month-to-month</td>\n    </tr>\n    <tr>\n      <th>PaperlessBilling</th>\n      <td>Yes</td>\n      <td>No</td>\n      <td>Yes</td>\n    </tr>\n    <tr>\n      <th>PaymentMethod</th>\n      <td>Electronic check</td>\n      <td>Mailed check</td>\n      <td>Mailed check</td>\n    </tr>\n    <tr>\n      <th>MonthlyCharges</th>\n      <td>29.85</td>\n      <td>56.95</td>\n      <td>53.85</td>\n    </tr>\n    <tr>\n      <th>TotalCharges</th>\n      <td>29.85</td>\n      <td>1889.5</td>\n      <td>108.15</td>\n    </tr>\n    <tr>\n      <th>Churn</th>\n      <td>No</td>\n      <td>No</td>\n      <td>Yes</td>\n    </tr>\n  </tbody>\n</table>\n</div>"
     },
     "execution_count": 5,
     "metadata": {},
     "output_type": "execute_result"
    }
   ],
   "source": [
    "print(df['customerID'].is_unique)\n",
    "df = df.drop('customerID', axis=1)\n",
    "df.head(3).T"
   ],
   "metadata": {
    "collapsed": false,
    "ExecuteTime": {
     "start_time": "2023-04-18T22:23:30.092697Z",
     "end_time": "2023-04-18T22:23:30.214069Z"
    }
   }
  },
  {
   "cell_type": "markdown",
   "source": [
    "Döper om kolumner för att få dem mer enhetliga."
   ],
   "metadata": {
    "collapsed": false
   }
  },
  {
   "cell_type": "code",
   "execution_count": 6,
   "outputs": [],
   "source": [
    "df = df.rename(columns={'gender':'Gender', 'tenure':'TenureMonths'})"
   ],
   "metadata": {
    "collapsed": false,
    "ExecuteTime": {
     "start_time": "2023-04-18T22:23:30.106431Z",
     "end_time": "2023-04-18T22:23:30.214069Z"
    }
   }
  },
  {
   "cell_type": "markdown",
   "source": [
    "Kontrollerar vad för värden 'SeniorCitizen' består utav eftersom den i datan var definerad som en 'int64'."
   ],
   "metadata": {
    "collapsed": false
   }
  },
  {
   "cell_type": "code",
   "execution_count": 7,
   "outputs": [
    {
     "data": {
      "text/plain": "array([0, 1], dtype=int64)"
     },
     "execution_count": 7,
     "metadata": {},
     "output_type": "execute_result"
    }
   ],
   "source": [
    "df['SeniorCitizen'].unique()"
   ],
   "metadata": {
    "collapsed": false,
    "ExecuteTime": {
     "start_time": "2023-04-18T22:23:30.112846Z",
     "end_time": "2023-04-18T22:23:30.215070Z"
    }
   }
  },
  {
   "cell_type": "markdown",
   "source": [
    "'SeniorCitizen' värden verkar vara binära och tolkar därmed datan som ok.\n",
    "Gör antagandet att man är 'SeniorCitizen' = 1 eller så är man inte det 'SeniorCitizen' = 0."
   ],
   "metadata": {
    "collapsed": false
   }
  },
  {
   "cell_type": "markdown",
   "source": [
    "Eftersom 'TotalCharges' består av 6531 unika värden så är den svår att läsa av manuellt för att kunna dra någon slutsats om varför datatypen är object."
   ],
   "metadata": {
    "collapsed": false
   }
  },
  {
   "cell_type": "code",
   "execution_count": 8,
   "outputs": [
    {
     "name": "stdout",
     "output_type": "stream",
     "text": [
      "Antal unika poster: 6531\n",
      "\n",
      "0     29.85\n",
      "1    1889.5\n",
      "2    108.15\n",
      "Name: TotalCharges, dtype: object\n"
     ]
    }
   ],
   "source": [
    "TotCharUniq = df['TotalCharges'].nunique()\n",
    "print(f'Antal unika poster: {TotCharUniq}', end='\\n\\n')\n",
    "print(df['TotalCharges'].head(3))"
   ],
   "metadata": {
    "collapsed": false,
    "ExecuteTime": {
     "start_time": "2023-04-18T22:23:30.121583Z",
     "end_time": "2023-04-18T22:23:30.215070Z"
    }
   }
  },
  {
   "cell_type": "markdown",
   "source": [
    "Datan verkar bara innehålla numeriska värde så kontrollerar om jag kan gör om datatypen till numerisk."
   ],
   "metadata": {
    "collapsed": false
   }
  },
  {
   "cell_type": "code",
   "execution_count": 9,
   "outputs": [],
   "source": [
    "# pd.to_numeric(df['TotalCharges'])"
   ],
   "metadata": {
    "collapsed": false,
    "ExecuteTime": {
     "start_time": "2023-04-18T22:23:30.128871Z",
     "end_time": "2023-04-18T22:23:30.215070Z"
    }
   }
  },
  {
   "cell_type": "markdown",
   "source": [
    "Cellen ovan är utkommenterad då cells resultat mynnar ut i ett fel (ValueError: Unable to parse string \" \"). Detta säger mig att datan inte enbart är numerisk utan innehåller \" \" och det krävs lite undersökning av datan.\n",
    "\n",
    "Sorterar ut de rader som innehåller mellanslag genom att forcera datan till numerisk och ta bort värdena som innehåller andra värden än nummer och sätta dem till NULL sen filtrerar jag min ursprungliga dataframe på dessa värden."
   ],
   "metadata": {
    "collapsed": false
   }
  },
  {
   "cell_type": "code",
   "execution_count": 10,
   "outputs": [
    {
     "data": {
      "text/plain": "      Gender  SeniorCitizen Partner Dependents  TenureMonths PhoneService  \\\n488   Female              0     Yes        Yes             0           No   \n753     Male              0      No        Yes             0          Yes   \n936   Female              0     Yes        Yes             0          Yes   \n1082    Male              0     Yes        Yes             0          Yes   \n1340  Female              0     Yes        Yes             0           No   \n3331    Male              0     Yes        Yes             0          Yes   \n3826    Male              0     Yes        Yes             0          Yes   \n4380  Female              0     Yes        Yes             0          Yes   \n5218    Male              0     Yes        Yes             0          Yes   \n6670  Female              0     Yes        Yes             0          Yes   \n6754    Male              0      No        Yes             0          Yes   \n\n         MultipleLines InternetService       OnlineSecurity  \\\n488   No phone service             DSL                  Yes   \n753                 No              No  No internet service   \n936                 No             DSL                  Yes   \n1082               Yes              No  No internet service   \n1340  No phone service             DSL                  Yes   \n3331                No              No  No internet service   \n3826               Yes              No  No internet service   \n4380                No              No  No internet service   \n5218                No              No  No internet service   \n6670               Yes             DSL                   No   \n6754               Yes             DSL                  Yes   \n\n             OnlineBackup     DeviceProtection          TechSupport  \\\n488                    No                  Yes                  Yes   \n753   No internet service  No internet service  No internet service   \n936                   Yes                  Yes                   No   \n1082  No internet service  No internet service  No internet service   \n1340                  Yes                  Yes                  Yes   \n3331  No internet service  No internet service  No internet service   \n3826  No internet service  No internet service  No internet service   \n4380  No internet service  No internet service  No internet service   \n5218  No internet service  No internet service  No internet service   \n6670                  Yes                  Yes                  Yes   \n6754                  Yes                   No                  Yes   \n\n              StreamingTV      StreamingMovies  Contract PaperlessBilling  \\\n488                   Yes                   No  Two year              Yes   \n753   No internet service  No internet service  Two year               No   \n936                   Yes                  Yes  Two year               No   \n1082  No internet service  No internet service  Two year               No   \n1340                  Yes                   No  Two year               No   \n3331  No internet service  No internet service  Two year               No   \n3826  No internet service  No internet service  Two year               No   \n4380  No internet service  No internet service  Two year               No   \n5218  No internet service  No internet service  One year              Yes   \n6670                  Yes                   No  Two year               No   \n6754                   No                   No  Two year              Yes   \n\n                  PaymentMethod  MonthlyCharges TotalCharges Churn  \n488   Bank transfer (automatic)           52.55                 No  \n753                Mailed check           20.25                 No  \n936                Mailed check           80.85                 No  \n1082               Mailed check           25.75                 No  \n1340    Credit card (automatic)           56.05                 No  \n3331               Mailed check           19.85                 No  \n3826               Mailed check           25.35                 No  \n4380               Mailed check           20.00                 No  \n5218               Mailed check           19.70                 No  \n6670               Mailed check           73.35                 No  \n6754  Bank transfer (automatic)           61.90                 No  ",
      "text/html": "<div>\n<style scoped>\n    .dataframe tbody tr th:only-of-type {\n        vertical-align: middle;\n    }\n\n    .dataframe tbody tr th {\n        vertical-align: top;\n    }\n\n    .dataframe thead th {\n        text-align: right;\n    }\n</style>\n<table border=\"1\" class=\"dataframe\">\n  <thead>\n    <tr style=\"text-align: right;\">\n      <th></th>\n      <th>Gender</th>\n      <th>SeniorCitizen</th>\n      <th>Partner</th>\n      <th>Dependents</th>\n      <th>TenureMonths</th>\n      <th>PhoneService</th>\n      <th>MultipleLines</th>\n      <th>InternetService</th>\n      <th>OnlineSecurity</th>\n      <th>OnlineBackup</th>\n      <th>DeviceProtection</th>\n      <th>TechSupport</th>\n      <th>StreamingTV</th>\n      <th>StreamingMovies</th>\n      <th>Contract</th>\n      <th>PaperlessBilling</th>\n      <th>PaymentMethod</th>\n      <th>MonthlyCharges</th>\n      <th>TotalCharges</th>\n      <th>Churn</th>\n    </tr>\n  </thead>\n  <tbody>\n    <tr>\n      <th>488</th>\n      <td>Female</td>\n      <td>0</td>\n      <td>Yes</td>\n      <td>Yes</td>\n      <td>0</td>\n      <td>No</td>\n      <td>No phone service</td>\n      <td>DSL</td>\n      <td>Yes</td>\n      <td>No</td>\n      <td>Yes</td>\n      <td>Yes</td>\n      <td>Yes</td>\n      <td>No</td>\n      <td>Two year</td>\n      <td>Yes</td>\n      <td>Bank transfer (automatic)</td>\n      <td>52.55</td>\n      <td></td>\n      <td>No</td>\n    </tr>\n    <tr>\n      <th>753</th>\n      <td>Male</td>\n      <td>0</td>\n      <td>No</td>\n      <td>Yes</td>\n      <td>0</td>\n      <td>Yes</td>\n      <td>No</td>\n      <td>No</td>\n      <td>No internet service</td>\n      <td>No internet service</td>\n      <td>No internet service</td>\n      <td>No internet service</td>\n      <td>No internet service</td>\n      <td>No internet service</td>\n      <td>Two year</td>\n      <td>No</td>\n      <td>Mailed check</td>\n      <td>20.25</td>\n      <td></td>\n      <td>No</td>\n    </tr>\n    <tr>\n      <th>936</th>\n      <td>Female</td>\n      <td>0</td>\n      <td>Yes</td>\n      <td>Yes</td>\n      <td>0</td>\n      <td>Yes</td>\n      <td>No</td>\n      <td>DSL</td>\n      <td>Yes</td>\n      <td>Yes</td>\n      <td>Yes</td>\n      <td>No</td>\n      <td>Yes</td>\n      <td>Yes</td>\n      <td>Two year</td>\n      <td>No</td>\n      <td>Mailed check</td>\n      <td>80.85</td>\n      <td></td>\n      <td>No</td>\n    </tr>\n    <tr>\n      <th>1082</th>\n      <td>Male</td>\n      <td>0</td>\n      <td>Yes</td>\n      <td>Yes</td>\n      <td>0</td>\n      <td>Yes</td>\n      <td>Yes</td>\n      <td>No</td>\n      <td>No internet service</td>\n      <td>No internet service</td>\n      <td>No internet service</td>\n      <td>No internet service</td>\n      <td>No internet service</td>\n      <td>No internet service</td>\n      <td>Two year</td>\n      <td>No</td>\n      <td>Mailed check</td>\n      <td>25.75</td>\n      <td></td>\n      <td>No</td>\n    </tr>\n    <tr>\n      <th>1340</th>\n      <td>Female</td>\n      <td>0</td>\n      <td>Yes</td>\n      <td>Yes</td>\n      <td>0</td>\n      <td>No</td>\n      <td>No phone service</td>\n      <td>DSL</td>\n      <td>Yes</td>\n      <td>Yes</td>\n      <td>Yes</td>\n      <td>Yes</td>\n      <td>Yes</td>\n      <td>No</td>\n      <td>Two year</td>\n      <td>No</td>\n      <td>Credit card (automatic)</td>\n      <td>56.05</td>\n      <td></td>\n      <td>No</td>\n    </tr>\n    <tr>\n      <th>3331</th>\n      <td>Male</td>\n      <td>0</td>\n      <td>Yes</td>\n      <td>Yes</td>\n      <td>0</td>\n      <td>Yes</td>\n      <td>No</td>\n      <td>No</td>\n      <td>No internet service</td>\n      <td>No internet service</td>\n      <td>No internet service</td>\n      <td>No internet service</td>\n      <td>No internet service</td>\n      <td>No internet service</td>\n      <td>Two year</td>\n      <td>No</td>\n      <td>Mailed check</td>\n      <td>19.85</td>\n      <td></td>\n      <td>No</td>\n    </tr>\n    <tr>\n      <th>3826</th>\n      <td>Male</td>\n      <td>0</td>\n      <td>Yes</td>\n      <td>Yes</td>\n      <td>0</td>\n      <td>Yes</td>\n      <td>Yes</td>\n      <td>No</td>\n      <td>No internet service</td>\n      <td>No internet service</td>\n      <td>No internet service</td>\n      <td>No internet service</td>\n      <td>No internet service</td>\n      <td>No internet service</td>\n      <td>Two year</td>\n      <td>No</td>\n      <td>Mailed check</td>\n      <td>25.35</td>\n      <td></td>\n      <td>No</td>\n    </tr>\n    <tr>\n      <th>4380</th>\n      <td>Female</td>\n      <td>0</td>\n      <td>Yes</td>\n      <td>Yes</td>\n      <td>0</td>\n      <td>Yes</td>\n      <td>No</td>\n      <td>No</td>\n      <td>No internet service</td>\n      <td>No internet service</td>\n      <td>No internet service</td>\n      <td>No internet service</td>\n      <td>No internet service</td>\n      <td>No internet service</td>\n      <td>Two year</td>\n      <td>No</td>\n      <td>Mailed check</td>\n      <td>20.00</td>\n      <td></td>\n      <td>No</td>\n    </tr>\n    <tr>\n      <th>5218</th>\n      <td>Male</td>\n      <td>0</td>\n      <td>Yes</td>\n      <td>Yes</td>\n      <td>0</td>\n      <td>Yes</td>\n      <td>No</td>\n      <td>No</td>\n      <td>No internet service</td>\n      <td>No internet service</td>\n      <td>No internet service</td>\n      <td>No internet service</td>\n      <td>No internet service</td>\n      <td>No internet service</td>\n      <td>One year</td>\n      <td>Yes</td>\n      <td>Mailed check</td>\n      <td>19.70</td>\n      <td></td>\n      <td>No</td>\n    </tr>\n    <tr>\n      <th>6670</th>\n      <td>Female</td>\n      <td>0</td>\n      <td>Yes</td>\n      <td>Yes</td>\n      <td>0</td>\n      <td>Yes</td>\n      <td>Yes</td>\n      <td>DSL</td>\n      <td>No</td>\n      <td>Yes</td>\n      <td>Yes</td>\n      <td>Yes</td>\n      <td>Yes</td>\n      <td>No</td>\n      <td>Two year</td>\n      <td>No</td>\n      <td>Mailed check</td>\n      <td>73.35</td>\n      <td></td>\n      <td>No</td>\n    </tr>\n    <tr>\n      <th>6754</th>\n      <td>Male</td>\n      <td>0</td>\n      <td>No</td>\n      <td>Yes</td>\n      <td>0</td>\n      <td>Yes</td>\n      <td>Yes</td>\n      <td>DSL</td>\n      <td>Yes</td>\n      <td>Yes</td>\n      <td>No</td>\n      <td>Yes</td>\n      <td>No</td>\n      <td>No</td>\n      <td>Two year</td>\n      <td>Yes</td>\n      <td>Bank transfer (automatic)</td>\n      <td>61.90</td>\n      <td></td>\n      <td>No</td>\n    </tr>\n  </tbody>\n</table>\n</div>"
     },
     "execution_count": 10,
     "metadata": {},
     "output_type": "execute_result"
    }
   ],
   "source": [
    "df[pd.to_numeric(df['TotalCharges'], errors='coerce').isnull()]"
   ],
   "metadata": {
    "collapsed": false,
    "ExecuteTime": {
     "start_time": "2023-04-18T22:23:30.132904Z",
     "end_time": "2023-04-18T22:23:30.215070Z"
    }
   }
  },
  {
   "cell_type": "code",
   "execution_count": 11,
   "outputs": [
    {
     "data": {
      "text/plain": "Int64Index([488, 753, 936, 1082, 1340, 3331, 3826, 4380, 5218, 6670, 6754], dtype='int64')"
     },
     "execution_count": 11,
     "metadata": {},
     "output_type": "execute_result"
    }
   ],
   "source": [
    "df[df['TenureMonths'] == 0].index"
   ],
   "metadata": {
    "collapsed": false,
    "ExecuteTime": {
     "start_time": "2023-04-18T22:23:30.150741Z",
     "end_time": "2023-04-18T22:23:30.221183Z"
    }
   }
  },
  {
   "cell_type": "markdown",
   "source": [
    "Det verkar vara elva poster som har mellanslag i datan. Dessa värden kan vara intressanta då de är de kunderna som inte haft en måndasbetlaning ännu. Väljer att sätta dessa posters TotalCharge till 0."
   ],
   "metadata": {
    "collapsed": false
   }
  },
  {
   "cell_type": "code",
   "execution_count": 12,
   "outputs": [
    {
     "data": {
      "text/plain": "      Gender  SeniorCitizen Partner Dependents  TenureMonths PhoneService  \\\n488   Female              0     Yes        Yes             0           No   \n753     Male              0      No        Yes             0          Yes   \n936   Female              0     Yes        Yes             0          Yes   \n1082    Male              0     Yes        Yes             0          Yes   \n1340  Female              0     Yes        Yes             0           No   \n3331    Male              0     Yes        Yes             0          Yes   \n3826    Male              0     Yes        Yes             0          Yes   \n4380  Female              0     Yes        Yes             0          Yes   \n5218    Male              0     Yes        Yes             0          Yes   \n6670  Female              0     Yes        Yes             0          Yes   \n6754    Male              0      No        Yes             0          Yes   \n\n         MultipleLines InternetService       OnlineSecurity  \\\n488   No phone service             DSL                  Yes   \n753                 No              No  No internet service   \n936                 No             DSL                  Yes   \n1082               Yes              No  No internet service   \n1340  No phone service             DSL                  Yes   \n3331                No              No  No internet service   \n3826               Yes              No  No internet service   \n4380                No              No  No internet service   \n5218                No              No  No internet service   \n6670               Yes             DSL                   No   \n6754               Yes             DSL                  Yes   \n\n             OnlineBackup     DeviceProtection          TechSupport  \\\n488                    No                  Yes                  Yes   \n753   No internet service  No internet service  No internet service   \n936                   Yes                  Yes                   No   \n1082  No internet service  No internet service  No internet service   \n1340                  Yes                  Yes                  Yes   \n3331  No internet service  No internet service  No internet service   \n3826  No internet service  No internet service  No internet service   \n4380  No internet service  No internet service  No internet service   \n5218  No internet service  No internet service  No internet service   \n6670                  Yes                  Yes                  Yes   \n6754                  Yes                   No                  Yes   \n\n              StreamingTV      StreamingMovies  Contract PaperlessBilling  \\\n488                   Yes                   No  Two year              Yes   \n753   No internet service  No internet service  Two year               No   \n936                   Yes                  Yes  Two year               No   \n1082  No internet service  No internet service  Two year               No   \n1340                  Yes                   No  Two year               No   \n3331  No internet service  No internet service  Two year               No   \n3826  No internet service  No internet service  Two year               No   \n4380  No internet service  No internet service  Two year               No   \n5218  No internet service  No internet service  One year              Yes   \n6670                  Yes                   No  Two year               No   \n6754                   No                   No  Two year              Yes   \n\n                  PaymentMethod  MonthlyCharges  TotalCharges Churn  \n488   Bank transfer (automatic)           52.55           0.0    No  \n753                Mailed check           20.25           0.0    No  \n936                Mailed check           80.85           0.0    No  \n1082               Mailed check           25.75           0.0    No  \n1340    Credit card (automatic)           56.05           0.0    No  \n3331               Mailed check           19.85           0.0    No  \n3826               Mailed check           25.35           0.0    No  \n4380               Mailed check           20.00           0.0    No  \n5218               Mailed check           19.70           0.0    No  \n6670               Mailed check           73.35           0.0    No  \n6754  Bank transfer (automatic)           61.90           0.0    No  ",
      "text/html": "<div>\n<style scoped>\n    .dataframe tbody tr th:only-of-type {\n        vertical-align: middle;\n    }\n\n    .dataframe tbody tr th {\n        vertical-align: top;\n    }\n\n    .dataframe thead th {\n        text-align: right;\n    }\n</style>\n<table border=\"1\" class=\"dataframe\">\n  <thead>\n    <tr style=\"text-align: right;\">\n      <th></th>\n      <th>Gender</th>\n      <th>SeniorCitizen</th>\n      <th>Partner</th>\n      <th>Dependents</th>\n      <th>TenureMonths</th>\n      <th>PhoneService</th>\n      <th>MultipleLines</th>\n      <th>InternetService</th>\n      <th>OnlineSecurity</th>\n      <th>OnlineBackup</th>\n      <th>DeviceProtection</th>\n      <th>TechSupport</th>\n      <th>StreamingTV</th>\n      <th>StreamingMovies</th>\n      <th>Contract</th>\n      <th>PaperlessBilling</th>\n      <th>PaymentMethod</th>\n      <th>MonthlyCharges</th>\n      <th>TotalCharges</th>\n      <th>Churn</th>\n    </tr>\n  </thead>\n  <tbody>\n    <tr>\n      <th>488</th>\n      <td>Female</td>\n      <td>0</td>\n      <td>Yes</td>\n      <td>Yes</td>\n      <td>0</td>\n      <td>No</td>\n      <td>No phone service</td>\n      <td>DSL</td>\n      <td>Yes</td>\n      <td>No</td>\n      <td>Yes</td>\n      <td>Yes</td>\n      <td>Yes</td>\n      <td>No</td>\n      <td>Two year</td>\n      <td>Yes</td>\n      <td>Bank transfer (automatic)</td>\n      <td>52.55</td>\n      <td>0.0</td>\n      <td>No</td>\n    </tr>\n    <tr>\n      <th>753</th>\n      <td>Male</td>\n      <td>0</td>\n      <td>No</td>\n      <td>Yes</td>\n      <td>0</td>\n      <td>Yes</td>\n      <td>No</td>\n      <td>No</td>\n      <td>No internet service</td>\n      <td>No internet service</td>\n      <td>No internet service</td>\n      <td>No internet service</td>\n      <td>No internet service</td>\n      <td>No internet service</td>\n      <td>Two year</td>\n      <td>No</td>\n      <td>Mailed check</td>\n      <td>20.25</td>\n      <td>0.0</td>\n      <td>No</td>\n    </tr>\n    <tr>\n      <th>936</th>\n      <td>Female</td>\n      <td>0</td>\n      <td>Yes</td>\n      <td>Yes</td>\n      <td>0</td>\n      <td>Yes</td>\n      <td>No</td>\n      <td>DSL</td>\n      <td>Yes</td>\n      <td>Yes</td>\n      <td>Yes</td>\n      <td>No</td>\n      <td>Yes</td>\n      <td>Yes</td>\n      <td>Two year</td>\n      <td>No</td>\n      <td>Mailed check</td>\n      <td>80.85</td>\n      <td>0.0</td>\n      <td>No</td>\n    </tr>\n    <tr>\n      <th>1082</th>\n      <td>Male</td>\n      <td>0</td>\n      <td>Yes</td>\n      <td>Yes</td>\n      <td>0</td>\n      <td>Yes</td>\n      <td>Yes</td>\n      <td>No</td>\n      <td>No internet service</td>\n      <td>No internet service</td>\n      <td>No internet service</td>\n      <td>No internet service</td>\n      <td>No internet service</td>\n      <td>No internet service</td>\n      <td>Two year</td>\n      <td>No</td>\n      <td>Mailed check</td>\n      <td>25.75</td>\n      <td>0.0</td>\n      <td>No</td>\n    </tr>\n    <tr>\n      <th>1340</th>\n      <td>Female</td>\n      <td>0</td>\n      <td>Yes</td>\n      <td>Yes</td>\n      <td>0</td>\n      <td>No</td>\n      <td>No phone service</td>\n      <td>DSL</td>\n      <td>Yes</td>\n      <td>Yes</td>\n      <td>Yes</td>\n      <td>Yes</td>\n      <td>Yes</td>\n      <td>No</td>\n      <td>Two year</td>\n      <td>No</td>\n      <td>Credit card (automatic)</td>\n      <td>56.05</td>\n      <td>0.0</td>\n      <td>No</td>\n    </tr>\n    <tr>\n      <th>3331</th>\n      <td>Male</td>\n      <td>0</td>\n      <td>Yes</td>\n      <td>Yes</td>\n      <td>0</td>\n      <td>Yes</td>\n      <td>No</td>\n      <td>No</td>\n      <td>No internet service</td>\n      <td>No internet service</td>\n      <td>No internet service</td>\n      <td>No internet service</td>\n      <td>No internet service</td>\n      <td>No internet service</td>\n      <td>Two year</td>\n      <td>No</td>\n      <td>Mailed check</td>\n      <td>19.85</td>\n      <td>0.0</td>\n      <td>No</td>\n    </tr>\n    <tr>\n      <th>3826</th>\n      <td>Male</td>\n      <td>0</td>\n      <td>Yes</td>\n      <td>Yes</td>\n      <td>0</td>\n      <td>Yes</td>\n      <td>Yes</td>\n      <td>No</td>\n      <td>No internet service</td>\n      <td>No internet service</td>\n      <td>No internet service</td>\n      <td>No internet service</td>\n      <td>No internet service</td>\n      <td>No internet service</td>\n      <td>Two year</td>\n      <td>No</td>\n      <td>Mailed check</td>\n      <td>25.35</td>\n      <td>0.0</td>\n      <td>No</td>\n    </tr>\n    <tr>\n      <th>4380</th>\n      <td>Female</td>\n      <td>0</td>\n      <td>Yes</td>\n      <td>Yes</td>\n      <td>0</td>\n      <td>Yes</td>\n      <td>No</td>\n      <td>No</td>\n      <td>No internet service</td>\n      <td>No internet service</td>\n      <td>No internet service</td>\n      <td>No internet service</td>\n      <td>No internet service</td>\n      <td>No internet service</td>\n      <td>Two year</td>\n      <td>No</td>\n      <td>Mailed check</td>\n      <td>20.00</td>\n      <td>0.0</td>\n      <td>No</td>\n    </tr>\n    <tr>\n      <th>5218</th>\n      <td>Male</td>\n      <td>0</td>\n      <td>Yes</td>\n      <td>Yes</td>\n      <td>0</td>\n      <td>Yes</td>\n      <td>No</td>\n      <td>No</td>\n      <td>No internet service</td>\n      <td>No internet service</td>\n      <td>No internet service</td>\n      <td>No internet service</td>\n      <td>No internet service</td>\n      <td>No internet service</td>\n      <td>One year</td>\n      <td>Yes</td>\n      <td>Mailed check</td>\n      <td>19.70</td>\n      <td>0.0</td>\n      <td>No</td>\n    </tr>\n    <tr>\n      <th>6670</th>\n      <td>Female</td>\n      <td>0</td>\n      <td>Yes</td>\n      <td>Yes</td>\n      <td>0</td>\n      <td>Yes</td>\n      <td>Yes</td>\n      <td>DSL</td>\n      <td>No</td>\n      <td>Yes</td>\n      <td>Yes</td>\n      <td>Yes</td>\n      <td>Yes</td>\n      <td>No</td>\n      <td>Two year</td>\n      <td>No</td>\n      <td>Mailed check</td>\n      <td>73.35</td>\n      <td>0.0</td>\n      <td>No</td>\n    </tr>\n    <tr>\n      <th>6754</th>\n      <td>Male</td>\n      <td>0</td>\n      <td>No</td>\n      <td>Yes</td>\n      <td>0</td>\n      <td>Yes</td>\n      <td>Yes</td>\n      <td>DSL</td>\n      <td>Yes</td>\n      <td>Yes</td>\n      <td>No</td>\n      <td>Yes</td>\n      <td>No</td>\n      <td>No</td>\n      <td>Two year</td>\n      <td>Yes</td>\n      <td>Bank transfer (automatic)</td>\n      <td>61.90</td>\n      <td>0.0</td>\n      <td>No</td>\n    </tr>\n  </tbody>\n</table>\n</div>"
     },
     "execution_count": 12,
     "metadata": {},
     "output_type": "execute_result"
    }
   ],
   "source": [
    "df['TotalCharges'] = pd.to_numeric(df['TotalCharges'], errors='coerce')\n",
    "df['TotalCharges'] = df['TotalCharges'].fillna(0)\n",
    "df.loc[df['TotalCharges'] == 0]"
   ],
   "metadata": {
    "collapsed": false,
    "ExecuteTime": {
     "start_time": "2023-04-18T22:23:30.164304Z",
     "end_time": "2023-04-18T22:23:30.226191Z"
    }
   }
  },
  {
   "cell_type": "markdown",
   "source": [
    "# Datavisualisering innan redigering av unika värden"
   ],
   "metadata": {
    "collapsed": false
   }
  },
  {
   "cell_type": "markdown",
   "source": [
    "Förbereder datan för visualisering"
   ],
   "metadata": {
    "collapsed": false
   }
  },
  {
   "cell_type": "code",
   "execution_count": 13,
   "outputs": [],
   "source": [
    "df['Churn'] = df['Churn'].replace({'Yes': 'Churned', 'No': 'Retained'})\n",
    "df['SeniorCitizen'] = df['SeniorCitizen'].replace({1: 'Senior', 0: 'Not senior'})"
   ],
   "metadata": {
    "collapsed": false,
    "ExecuteTime": {
     "start_time": "2023-04-18T22:23:30.189248Z",
     "end_time": "2023-04-18T22:23:30.226191Z"
    }
   }
  },
  {
   "cell_type": "code",
   "execution_count": 14,
   "outputs": [
    {
     "data": {
      "text/plain": "<Figure size 1000x500 with 3 Axes>",
      "image/png": "[encoded data removed]"
     },
     "metadata": {},
     "output_type": "display_data"
    }
   ],
   "source": [
    "colors = ['lightgreen', 'tomato']\n",
    "colors1 = ['lightblue', 'pink']\n",
    "colors2 = ['cornflowerblue', 'royalblue']\n",
    "\n",
    "gender_labels = df['Gender'].value_counts().index\n",
    "churn_labels = df['Churn'].value_counts().index\n",
    "senior_labels = df['SeniorCitizen'].value_counts().index\n",
    "\n",
    "fig, axs = plt.subplots(1, 3, figsize=(10, 5))\n",
    "\n",
    "axs[0].pie(df['Churn'].value_counts(), labels=churn_labels, autopct='%1.1f%%', colors=colors)\n",
    "axs[0].set_title('Churned/Retained ratio')\n",
    "\n",
    "axs[1].pie(df['Gender'].value_counts(), labels=gender_labels, autopct='%1.1f%%', colors=colors1)\n",
    "axs[1].set_title('Male/Female ratio')\n",
    "\n",
    "axs[2].pie(df['SeniorCitizen'].value_counts(), labels=senior_labels, autopct='%1.1f%%', colors=colors2)\n",
    "axs[2].set_title('Senior citizen ratio')\n",
    "\n",
    "plt.show()"
   ],
   "metadata": {
    "collapsed": false,
    "ExecuteTime": {
     "start_time": "2023-04-18T22:23:30.197301Z",
     "end_time": "2023-04-18T22:23:30.485205Z"
    }
   }
  },
  {
   "cell_type": "code",
   "execution_count": 15,
   "outputs": [
    {
     "data": {
      "text/plain": "<Figure size 1000x500 with 2 Axes>",
      "image/png": "[encoded data removed]"
     },
     "metadata": {},
     "output_type": "display_data"
    }
   ],
   "source": [
    "gender_churn_labels = np.concatenate((gender_labels, [f'{label} Churned' for label in gender_labels]))\n",
    "\n",
    "fig, axs = plt.subplots(1, 2, figsize=(10, 5))\n",
    "axs[0].pie(df[['Gender', 'Churn']].value_counts(), labels=gender_churn_labels, autopct='%1.1f%%', colors=['lightblue', 'pink','tomato' ,'tomato'])\n",
    "axs[0].set_title('Male/Female with relation to churn')\n",
    "\n",
    "axs[1].pie(df[df['SeniorCitizen'] == 'Senior']['Churn'].value_counts(), labels=churn_labels, autopct='%1.1f%%', colors=['cornflowerblue', 'royalblue','tomato' ,'tomato'])\n",
    "axs[1].set_title('Senior citizen with relation to churn')\n",
    "\n",
    "plt.show()"
   ],
   "metadata": {
    "collapsed": false,
    "ExecuteTime": {
     "start_time": "2023-04-18T22:23:30.385263Z",
     "end_time": "2023-04-18T22:23:30.597208Z"
    }
   }
  },
  {
   "cell_type": "markdown",
   "source": [
    "Fördelningen mellan män och kvinnor som hoppar av är jämnt fördelad.\n",
    "\n",
    "Det är intressant att på den visserligen ganska lilla gruppen Seniorer så är det ändå en stor andel som hoppar av."
   ],
   "metadata": {
    "collapsed": false
   }
  },
  {
   "cell_type": "code",
   "execution_count": null,
   "outputs": [],
   "source": [],
   "metadata": {
    "collapsed": false,
    "ExecuteTime": {
     "start_time": "2023-04-18T22:20:09.644873Z",
     "end_time": "2023-04-18T22:20:09.670762Z"
    }
   }
  },
  {
   "cell_type": "code",
   "execution_count": null,
   "outputs": [],
   "source": [],
   "metadata": {
    "collapsed": false,
    "ExecuteTime": {
     "start_time": "2023-04-18T22:20:20.489629Z",
     "end_time": "2023-04-18T22:20:20.514831Z"
    }
   }
  },
  {
   "cell_type": "code",
   "execution_count": null,
   "outputs": [],
   "source": [
    "fig = plt.hist(x=df[['Churn','Contract']].value_counts(), density=True)"
   ],
   "metadata": {
    "collapsed": false,
    "ExecuteTime": {
     "start_time": "2023-04-18T22:20:29.644197Z",
     "end_time": "2023-04-18T22:20:29.815893Z"
    }
   }
  },
  {
   "cell_type": "markdown",
   "source": [
    "# Redigering av unika värden"
   ],
   "metadata": {
    "collapsed": false
   }
  },
  {
   "cell_type": "markdown",
   "source": [
    "Kollar antalen unika värden i varje kolumn."
   ],
   "metadata": {
    "collapsed": false
   }
  },
  {
   "cell_type": "code",
   "execution_count": null,
   "outputs": [],
   "source": [
    "df.nunique()"
   ],
   "metadata": {
    "collapsed": false,
    "ExecuteTime": {
     "start_time": "2023-04-17T19:17:06.093394Z",
     "end_time": "2023-04-17T19:17:06.112708Z"
    }
   }
  },
  {
   "cell_type": "code",
   "execution_count": null,
   "outputs": [],
   "source": [
    "# Skapar en lista för att analysera kolumnerna som har två värden för att se om jag kan ersätta dem med binära tal.\n",
    "col=['Gender', 'SeniorCitizen','Partner', 'Dependents', 'PhoneService', 'PaperlessBilling', 'Churn']\n",
    "for i in col:\n",
    "    print(i,df[i].unique())"
   ],
   "metadata": {
    "collapsed": false,
    "ExecuteTime": {
     "start_time": "2023-04-17T19:15:53.592225Z",
     "end_time": "2023-04-17T19:15:53.658692Z"
    }
   }
  },
  {
   "cell_type": "code",
   "execution_count": null,
   "outputs": [],
   "source": [
    "# Granska kolumnerna som har tre värden för att se om jag kan göra om dessa till binära.\n",
    "col=['MultipleLines', 'InternetService', 'OnlineSecurity', 'OnlineBackup', 'DeviceProtection', 'TechSupport', 'StreamingTV', 'StreamingMovies', 'Contract']\n",
    "for i in col:\n",
    "    print(i,df[i].unique())"
   ],
   "metadata": {
    "collapsed": false,
    "ExecuteTime": {
     "start_time": "2023-04-17T19:15:53.604083Z",
     "end_time": "2023-04-17T19:15:53.658692Z"
    }
   }
  },
  {
   "cell_type": "markdown",
   "source": [
    "Tänker att jag borde kunna ändra alla värden som har 'No internet service' och 'No phone service' till 'No' då jag reda får denna infon genom 'InternetService' och 'PhoneService' kolumnerna."
   ],
   "metadata": {
    "collapsed": false
   }
  },
  {
   "cell_type": "code",
   "execution_count": null,
   "outputs": [],
   "source": [
    "df['MultipleLines'] = df['MultipleLines'].replace(['No phone service'], 'No')\n",
    "\n",
    "df['OnlineSecurity'] = df['OnlineSecurity'].replace(['No internet service'], 'No')\n",
    "df['OnlineBackup'] = df['OnlineBackup'].replace(['No internet service'], 'No')\n",
    "df['DeviceProtection'] = df['DeviceProtection'].replace(['No internet service'], 'No')\n",
    "df['TechSupport'] = df['TechSupport'].replace(['No internet service'], 'No')\n",
    "df['StreamingTV'] = df['StreamingTV'].replace(['No internet service'], 'No')\n",
    "df['StreamingMovies'] = df['StreamingMovies'].replace(['No internet service'], 'No')\n",
    "\n",
    "\n",
    "col=['MultipleLines', 'InternetService', 'OnlineSecurity', 'OnlineBackup', 'DeviceProtection', 'TechSupport', 'StreamingTV', 'StreamingMovies', 'Contract']\n",
    "for i in col:\n",
    "    print(i,df[i].unique())"
   ],
   "metadata": {
    "collapsed": false,
    "ExecuteTime": {
     "start_time": "2023-04-17T19:15:53.611976Z",
     "end_time": "2023-04-17T19:15:53.727952Z"
    }
   }
  },
  {
   "cell_type": "markdown",
   "source": [
    "Skapar en variabel med de kolumner som kan göras om till binära tal."
   ],
   "metadata": {
    "collapsed": false
   }
  },
  {
   "cell_type": "code",
   "execution_count": null,
   "outputs": [],
   "source": [
    "binary_col=['SeniorCitizen','Partner', 'Dependents', 'PhoneService', 'PaperlessBilling', 'Churn', 'MultipleLines', 'OnlineSecurity', 'OnlineBackup', 'DeviceProtection', 'TechSupport', 'StreamingTV', 'StreamingMovies']\n",
    "for i in binary_col:\n",
    "    print(i,df[i].unique())"
   ],
   "metadata": {
    "collapsed": false,
    "ExecuteTime": {
     "start_time": "2023-04-17T19:21:36.503190Z",
     "end_time": "2023-04-17T19:21:36.512379Z"
    }
   }
  },
  {
   "cell_type": "markdown",
   "source": [
    "# Visualisering innan maskinlärning"
   ],
   "metadata": {
    "collapsed": false
   }
  },
  {
   "cell_type": "code",
   "execution_count": null,
   "outputs": [],
   "source": [],
   "metadata": {
    "collapsed": false
   }
  },
  {
   "cell_type": "markdown",
   "source": [
    "# Förbereder datan för maskinlärning"
   ],
   "metadata": {
    "collapsed": false
   }
  },
  {
   "cell_type": "code",
   "execution_count": null,
   "outputs": [],
   "source": [],
   "metadata": {
    "collapsed": false,
    "ExecuteTime": {
     "start_time": "2023-04-17T19:15:53.635418Z",
     "end_time": "2023-04-17T19:15:53.727952Z"
    }
   }
  },
  {
   "cell_type": "markdown",
   "source": [],
   "metadata": {
    "collapsed": false
   }
  },
  {
   "cell_type": "code",
   "execution_count": null,
   "outputs": [],
   "source": [],
   "metadata": {
    "collapsed": false
   }
  }
 ],
 "metadata": {
  "kernelspec": {
   "display_name": "Python 3",
   "language": "python",
   "name": "python3"
  },
  "language_info": {
   "codemirror_mode": {
    "name": "ipython",
    "version": 2
   },
   "file_extension": ".py",
   "mimetype": "text/x-python",
   "name": "python",
   "nbconvert_exporter": "python",
   "pygments_lexer": "ipython2",
   "version": "2.7.6"
  }
 },
 "nbformat": 4,
 "nbformat_minor": 0
}
